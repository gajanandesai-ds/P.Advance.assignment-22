{
 "cells": [
  {
   "cell_type": "raw",
   "id": "6b976d16",
   "metadata": {},
   "source": [
    "Q1. What are the benefits of the built-in array package, if any?"
   ]
  },
  {
   "cell_type": "raw",
   "id": "4f418428",
   "metadata": {},
   "source": [
    "ans: The Array is much more rigid. That is, the items that an array contains must be of the same type. therefore the size of the item will also be the same. We dan check the size lf each item."
   ]
  },
  {
   "cell_type": "code",
   "execution_count": null,
   "id": "c7ec72ad",
   "metadata": {},
   "outputs": [],
   "source": []
  },
  {
   "cell_type": "code",
   "execution_count": null,
   "id": "f8cf9988",
   "metadata": {},
   "outputs": [],
   "source": []
  },
  {
   "cell_type": "raw",
   "id": "6166d99f",
   "metadata": {},
   "source": [
    "Q2. What are some of the array package&#39;s limitations?"
   ]
  },
  {
   "cell_type": "raw",
   "id": "2e8ce674",
   "metadata": {},
   "source": [
    "ans: An array which is formed will be homogeneous.\n",
    "    \n",
    "    while delcaring an array, passing size od an array is complusory, and the size must be a constant.\n",
    "    shifting is requried for insertion or deletion of elements in an array."
   ]
  },
  {
   "cell_type": "code",
   "execution_count": null,
   "id": "c6bdd361",
   "metadata": {},
   "outputs": [],
   "source": []
  },
  {
   "cell_type": "code",
   "execution_count": null,
   "id": "06c676c3",
   "metadata": {},
   "outputs": [],
   "source": []
  },
  {
   "cell_type": "raw",
   "id": "9d6dcbe6",
   "metadata": {},
   "source": [
    "Q3. Describe the main differences between the array and numpy packages."
   ]
  },
  {
   "cell_type": "raw",
   "id": "a4dfc626",
   "metadata": {},
   "source": [
    "ans:A numpy array is a grid od values, all of the same type, and is indexed by a tuple of nonnegative integers. A list is the python equivalent of an array, but is resizeble and can contain elements of differnt types. The answer to above queary the main differnce in two is of performance."
   ]
  },
  {
   "cell_type": "code",
   "execution_count": null,
   "id": "d13df43b",
   "metadata": {},
   "outputs": [],
   "source": []
  },
  {
   "cell_type": "code",
   "execution_count": null,
   "id": "22bb66d6",
   "metadata": {},
   "outputs": [],
   "source": []
  },
  {
   "cell_type": "raw",
   "id": "b3daaadd",
   "metadata": {},
   "source": [
    "Q4. Explain the distinctions between the empty, ones, and zeros functions."
   ]
  },
  {
   "cell_type": "raw",
   "id": "45c23e59",
   "metadata": {},
   "source": [
    "ans: The only difference between numpy.empty numpy. ones and numpy. zeros is that empty uses malloc and zeros uses calloc. Also zeros() and ones()are the Numpy library functions to create two differnt arrarys. zeros() function is used to create an arrray based on the particular shape and type. All array elements are initilized to 0, which is created by the zeros() function. ones() function works like the zeros() function."
   ]
  },
  {
   "cell_type": "code",
   "execution_count": null,
   "id": "b5f639de",
   "metadata": {},
   "outputs": [],
   "source": []
  },
  {
   "cell_type": "code",
   "execution_count": null,
   "id": "8e8efaf3",
   "metadata": {},
   "outputs": [],
   "source": []
  },
  {
   "cell_type": "raw",
   "id": "6f42dc3a",
   "metadata": {},
   "source": [
    "Q5. In the fromfunction function, which is used to construct new arrays, what is the role of the callable\n",
    "argument?"
   ]
  },
  {
   "cell_type": "raw",
   "id": "9bc9a380",
   "metadata": {},
   "source": [
    "ans: from function () function construct an array by executing a function over each cordinate and the resulting arrary, therfore, has a value fn (x,y,z) at coordinate(x,y,z). parameters: function: [callable] the function is called with N parameters, where N is the rank of shape."
   ]
  },
  {
   "cell_type": "code",
   "execution_count": null,
   "id": "db469740",
   "metadata": {},
   "outputs": [],
   "source": []
  },
  {
   "cell_type": "code",
   "execution_count": null,
   "id": "e1d45124",
   "metadata": {},
   "outputs": [],
   "source": []
  },
  {
   "cell_type": "raw",
   "id": "a0833ea0",
   "metadata": {},
   "source": [
    "Q6. What happens when a numpy array is combined with a single-value operand (a scalar, such as\n",
    "an int or a floating-point value) through addition, as in the expression A + n?"
   ]
  },
  {
   "cell_type": "code",
   "execution_count": 1,
   "id": "56f8ec7f",
   "metadata": {},
   "outputs": [
    {
     "name": "stdout",
     "output_type": "stream",
     "text": [
      "[2 3 4 5 6]\n"
     ]
    }
   ],
   "source": [
    "import numpy as np\n",
    "\n",
    "arr = np.array((1,2,3,4,5))\n",
    "\n",
    "print(arr +1)"
   ]
  },
  {
   "cell_type": "code",
   "execution_count": null,
   "id": "49316a58",
   "metadata": {},
   "outputs": [],
   "source": []
  },
  {
   "cell_type": "code",
   "execution_count": null,
   "id": "a04d173e",
   "metadata": {},
   "outputs": [],
   "source": []
  },
  {
   "cell_type": "raw",
   "id": "994ff8b5",
   "metadata": {},
   "source": [
    "Q7. Can array-to-scalar operations use combined operation-assign operators (such as += or *=)?\n",
    "What is the outcome?"
   ]
  },
  {
   "cell_type": "raw",
   "id": "61a201f5",
   "metadata": {},
   "source": [
    "ans: No"
   ]
  },
  {
   "cell_type": "code",
   "execution_count": 3,
   "id": "1c8473ff",
   "metadata": {},
   "outputs": [
    {
     "ename": "SyntaxError",
     "evalue": "invalid syntax (<ipython-input-3-441bcf01005b>, line 6)",
     "output_type": "error",
     "traceback": [
      "\u001b[0;36m  File \u001b[0;32m\"<ipython-input-3-441bcf01005b>\"\u001b[0;36m, line \u001b[0;32m6\u001b[0m\n\u001b[0;31m    a = arr +=1\u001b[0m\n\u001b[0m            ^\u001b[0m\n\u001b[0;31mSyntaxError\u001b[0m\u001b[0;31m:\u001b[0m invalid syntax\n"
     ]
    }
   ],
   "source": [
    "#using scalar operations error came\n",
    "\n",
    "import numpy as np\n",
    "\n",
    "arr = np.array((1,2,3,4,5))\n",
    "a = arr +=1\n",
    "print(a)"
   ]
  },
  {
   "cell_type": "code",
   "execution_count": null,
   "id": "26280f4c",
   "metadata": {},
   "outputs": [],
   "source": []
  },
  {
   "cell_type": "raw",
   "id": "feb4f852",
   "metadata": {},
   "source": [
    "Q8. Does a numpy array contain fixed-length strings? What happens if you allocate a longer string to\n",
    "one of these arrays?"
   ]
  },
  {
   "cell_type": "raw",
   "id": "16920bd3",
   "metadata": {},
   "source": [
    "ans: NumPy arrays have a fixed size at creation, unlike python list(which can grow dynamically). changing the size\n",
    "of an ndarray will create a new array and delete the original. The elements in a NumPy array are all required to be of the same data type, and thus will be the same size in memory. if longer string is allocateed it might cause a computation problem basically increse the time complexity."
   ]
  },
  {
   "cell_type": "code",
   "execution_count": null,
   "id": "12c9ee4c",
   "metadata": {},
   "outputs": [],
   "source": []
  },
  {
   "cell_type": "code",
   "execution_count": null,
   "id": "2c43a1f8",
   "metadata": {},
   "outputs": [],
   "source": []
  },
  {
   "cell_type": "raw",
   "id": "01040c7b",
   "metadata": {},
   "source": [
    "Q9. What happens when you combine two numpy arrays using an operation like addition (+) or\n",
    "multiplication (*)? What are the conditions for combining two numpy arrays?"
   ]
  },
  {
   "cell_type": "code",
   "execution_count": 4,
   "id": "2ed10d3c",
   "metadata": {},
   "outputs": [
    {
     "name": "stdout",
     "output_type": "stream",
     "text": [
      "[[ 6  8]\n",
      " [10 12]]\n",
      "\n",
      " [[ 5 12]\n",
      " [21 32]]\n"
     ]
    }
   ],
   "source": [
    "import numpy as np\n",
    "\n",
    "arr1 = np.array([[1,2],[3,4]])\n",
    "\n",
    "arr2 = np.array([[5,6],[7,8]])\n",
    "\n",
    "arr = arr1 +arr2\n",
    "arr1 = arr1 *arr2\n",
    "\n",
    "print(arr)\n",
    "print(\"\\n\",arr1)"
   ]
  },
  {
   "cell_type": "raw",
   "id": "7fc575fc",
   "metadata": {},
   "source": [
    "NumPy's concatenate function can be used to concatenate two array either row-wise or column-wise. concatenate function can rake two or more array of the same shape and by defalute it concatenates row-wise i.e. axis= 0. The  resulting array after row-wise concatenation is of the shape 6 x 3, i.e . 6 rows and 3 columns."
   ]
  },
  {
   "cell_type": "code",
   "execution_count": null,
   "id": "8e6c22ba",
   "metadata": {},
   "outputs": [],
   "source": []
  },
  {
   "cell_type": "raw",
   "id": "c92a985d",
   "metadata": {},
   "source": [
    "Q10. What is the best way to use a Boolean array to mask another array?"
   ]
  },
  {
   "cell_type": "raw",
   "id": "c4f81311",
   "metadata": {},
   "source": [
    "ans: Boolean masking is typiclly the most efficient way to quantify a sub-collection in a collection. masking in python and data science is when you want manipulated data in a collection based on some criteria. The criteria you use is  typically of a true or false nature, hence the boolean part.\n",
    "\n",
    "using masked_where() function : Pass the two array in the function as a parameter then use numpy. ma. masked_where() function in which pass the condition for masking and array to be masked.\n",
    "\n",
    "using masked_where(), getmask() and masked_arrary() function: Pass the two array in the function as a parameter then use numpy."
   ]
  },
  {
   "cell_type": "code",
   "execution_count": null,
   "id": "62998599",
   "metadata": {},
   "outputs": [],
   "source": []
  },
  {
   "cell_type": "code",
   "execution_count": null,
   "id": "1275b8ec",
   "metadata": {},
   "outputs": [],
   "source": []
  },
  {
   "cell_type": "raw",
   "id": "0b924b6f",
   "metadata": {},
   "source": [
    "Q11. What are three different ways to get the standard deviation One "
   ]
  },
  {
   "cell_type": "raw",
   "id": "f3df9185",
   "metadata": {},
   "source": [
    "ans: one method is shown below standard then we can use pandas or using srpiting line by lin to ding standard  deviation. using pandas std() is generally nicer way  and faster."
   ]
  },
  {
   "cell_type": "code",
   "execution_count": 8,
   "id": "40dbce3e",
   "metadata": {},
   "outputs": [
    {
     "data": {
      "text/plain": [
       "2.4257571025684244"
      ]
     },
     "execution_count": 8,
     "metadata": {},
     "output_type": "execute_result"
    }
   ],
   "source": [
    "import math\n",
    "def variance (data,ddof=0):\n",
    "    n = len(data)\n",
    "    mean = sum(data)/n\n",
    "    return sum ((x-mean)**2 for x in data)/(n-ddof)\n",
    "\n",
    "def stdev(data):\n",
    "    var = variance(data)\n",
    "    std_dev= math.sqrt(var)\n",
    "    return std_dev\n",
    "\n",
    "stdev([4,8,6,5,3,2,8,8,9,2,5])"
   ]
  },
  {
   "cell_type": "code",
   "execution_count": null,
   "id": "016eee75",
   "metadata": {},
   "outputs": [],
   "source": []
  },
  {
   "cell_type": "code",
   "execution_count": null,
   "id": "0f53370a",
   "metadata": {},
   "outputs": [],
   "source": []
  },
  {
   "cell_type": "raw",
   "id": "6615de05",
   "metadata": {},
   "source": [
    "12. What is the dimensionality of a Boolean mask-generated array?"
   ]
  },
  {
   "cell_type": "code",
   "execution_count": null,
   "id": "73d7e583",
   "metadata": {},
   "outputs": [],
   "source": [
    "import numpy as np\n",
    "\n",
    "arr = np.asarray([[[[1,11],[2,22],[3,33]],\n",
    "                   [[4,44],[5,55],[6,66]]],\n",
    "                  [[[7,77],[8,88],[9,99]]"
   ]
  },
  {
   "cell_type": "code",
   "execution_count": null,
   "id": "591f115c",
   "metadata": {},
   "outputs": [],
   "source": []
  },
  {
   "cell_type": "code",
   "execution_count": null,
   "id": "e5825577",
   "metadata": {},
   "outputs": [],
   "source": []
  },
  {
   "cell_type": "code",
   "execution_count": null,
   "id": "e48818ba",
   "metadata": {},
   "outputs": [],
   "source": []
  },
  {
   "cell_type": "code",
   "execution_count": null,
   "id": "8c64a076",
   "metadata": {},
   "outputs": [],
   "source": []
  }
 ],
 "metadata": {
  "kernelspec": {
   "display_name": "Python 3",
   "language": "python",
   "name": "python3"
  },
  "language_info": {
   "codemirror_mode": {
    "name": "ipython",
    "version": 3
   },
   "file_extension": ".py",
   "mimetype": "text/x-python",
   "name": "python",
   "nbconvert_exporter": "python",
   "pygments_lexer": "ipython3",
   "version": "3.8.8"
  }
 },
 "nbformat": 4,
 "nbformat_minor": 5
}
